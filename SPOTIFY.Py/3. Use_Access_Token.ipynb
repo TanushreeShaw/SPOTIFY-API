{
  "nbformat": 4,
  "nbformat_minor": 0,
  "metadata": {
    "colab": {
      "name": "Use Access Token.ipynb",
      "provenance": [],
      "collapsed_sections": []
    },
    "kernelspec": {
      "name": "python3",
      "display_name": "Python 3"
    }
  },
  "cells": [
    {
      "cell_type": "code",
      "metadata": {
        "id": "XJSzjYsT1H0y",
        "colab_type": "code",
        "colab": {}
      },
      "source": [
        "!pip install requests"
      ],
      "execution_count": null,
      "outputs": []
    },
    {
      "cell_type": "code",
      "metadata": {
        "id": "J0ij7cmY1Pxd",
        "colab_type": "code",
        "colab": {}
      },
      "source": [
        "import requests\n",
        "import datetime\n",
        "from urllib.parse import urlencode"
      ],
      "execution_count": 51,
      "outputs": []
    },
    {
      "cell_type": "code",
      "metadata": {
        "id": "maBFPYwY1R4Q",
        "colab_type": "code",
        "colab": {}
      },
      "source": [
        "import base64"
      ],
      "execution_count": 52,
      "outputs": []
    },
    {
      "cell_type": "code",
      "metadata": {
        "id": "Aces3EBQ1Trj",
        "colab_type": "code",
        "colab": {}
      },
      "source": [
        "client_id = 'CLIENT ID'\n",
        "client_secret = 'CLIENT SECRET ID'"
      ],
      "execution_count": 53,
      "outputs": []
    },
    {
      "cell_type": "code",
      "metadata": {
        "id": "5n-dG5PC1V4l",
        "colab_type": "code",
        "colab": {}
      },
      "source": [
        "#import datetime\n",
        "class SpotifyAPI(object):\n",
        "  access_token = None\n",
        "  access_token_expires = datetime.datetime.now()\n",
        "  access_token_did_expire = True\n",
        "  client_id = None\n",
        "  client_secret = None\n",
        "  token_url=\"https://accounts.spotify.com/api/token\"\n",
        "  \n",
        "\n",
        "  def __init__(self, client_id, client_secret, *args, **kwargs):\n",
        "    super().__init__(*args, **kwargs)\n",
        "    self.client_id = client_id\n",
        "    self.client_secret = client_secret\n",
        "\n",
        "  def get_client_credentials(self):\n",
        "    \"\"\"\n",
        "    Returns a base64 encoded string\n",
        "    \"\"\"\n",
        "    client_id = self.client_id\n",
        "    client_secret = self.client_secret\n",
        "    if client_id == None or client_secret == None:\n",
        "      raise Exception(\"You must set client_id and client_secret\")\n",
        "    client_creds = f\"{client_id}:{client_secret}\"\n",
        "    client_creds_b64 = base64.b64encode(client_creds.encode())\n",
        "    return client_creds_b64.decode()\n",
        "\n",
        "  def get_token_header(self):\n",
        "    client_creds_b64 = self.get_client_credentials()\n",
        "    return  {\n",
        "    \"Authorization\" : f\"Basic {client_creds_b64}\" \n",
        "    }  \n",
        "\n",
        "  def get_token_data(self):\n",
        "    return  {\n",
        "    \"grant_type\" : \"client_credentials\"\n",
        "    }  \n",
        "\n",
        "  def perform_auth(self):\n",
        "    token_url = self.token_url\n",
        "    token_data = self.get_token_data()\n",
        "    token_header = self.get_token_header()\n",
        "    r = requests.post(token_url, data=token_data, headers=token_header)\n",
        "    \n",
        "    #valid_request = r.status_code in range(200, 299):\n",
        "\n",
        "    if r.status_code not in range(200, 299):\n",
        "      return False\n",
        "    data = r.json()\n",
        "    now = datetime.datetime.now()\n",
        "    access_token = data['access_token']\n",
        "    expires_in = data['expires_in'] #seconds\n",
        "    expires = now + datetime.timedelta(seconds=expires_in)\n",
        "    self.access_token = access_token\n",
        "    self.access_token_expires = expires\n",
        "    self.access_token_did_expire = expires < now\n",
        "    return True\n"
      ],
      "execution_count": 54,
      "outputs": []
    },
    {
      "cell_type": "code",
      "metadata": {
        "id": "zt7DonBp1YkG",
        "colab_type": "code",
        "colab": {}
      },
      "source": [
        "spotify = SpotifyAPI(client_id, client_secret)\n"
      ],
      "execution_count": 55,
      "outputs": []
    },
    {
      "cell_type": "code",
      "metadata": {
        "id": "yL64Wwip1bA8",
        "colab_type": "code",
        "colab": {}
      },
      "source": [
        "spotify.perform_auth()"
      ],
      "execution_count": null,
      "outputs": []
    },
    {
      "cell_type": "code",
      "metadata": {
        "id": "LbKNiw9X1eKw",
        "colab_type": "code",
        "colab": {}
      },
      "source": [
        "access_token = spotify.access_token"
      ],
      "execution_count": 57,
      "outputs": []
    },
    {
      "cell_type": "code",
      "metadata": {
        "id": "v3mBn9I_1gYd",
        "colab_type": "code",
        "colab": {}
      },
      "source": [
        "headers = {\n",
        "    \"Authorization\" : f\"Bearer {access_token}\"\n",
        "}\n",
        "endpoint = \"https://api.spotify.com/v1/search\"\n",
        "data = urlencode({\"q\" : \"Time\", \"type\" : \"track\"})\n",
        "print(data)\n",
        "\n",
        "lookup_url = f\"{endpoint}?{data}\"\n",
        "print(lookup_url)\n",
        "r = requests.get(lookup_url, headers=headers)\n",
        "print(r.status_code)"
      ],
      "execution_count": null,
      "outputs": []
    },
    {
      "cell_type": "code",
      "metadata": {
        "id": "071c0tjY3czM",
        "colab_type": "code",
        "colab": {}
      },
      "source": [
        "r.json()"
      ],
      "execution_count": null,
      "outputs": []
    },
    {
      "cell_type": "code",
      "metadata": {
        "id": "Zb49YfkY6IsF",
        "colab_type": "code",
        "colab": {}
      },
      "source": [
        "data = urlencode({\"q\" : \"A Lennister Always pays his debts\", \"type\" : \"track\"})\n",
        "\n",
        "lookup_url = f\"{endpoint}?{data}\"\n",
        "r = requests.get(lookup_url, headers=headers)\n",
        "r.json()"
      ],
      "execution_count": null,
      "outputs": []
    }
  ]
}
