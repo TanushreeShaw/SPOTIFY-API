{
  "nbformat": 4,
  "nbformat_minor": 0,
  "metadata": {
    "colab": {
      "name": "Resource Enabled Client.ipynb",
      "provenance": [],
      "collapsed_sections": []
    },
    "kernelspec": {
      "name": "python3",
      "display_name": "Python 3"
    }
  },
  "cells": [
    {
      "cell_type": "code",
      "metadata": {
        "id": "SBQD_y1H7ZQY",
        "colab_type": "code",
        "colab": {}
      },
      "source": [
        "!pip install requests"
      ],
      "execution_count": null,
      "outputs": []
    },
    {
      "cell_type": "code",
      "metadata": {
        "id": "h-zQXHzE7lW7",
        "colab_type": "code",
        "colab": {}
      },
      "source": [
        "import requests\n",
        "import datetime\n",
        "from urllib.parse import urlencode"
      ],
      "execution_count": 37,
      "outputs": []
    },
    {
      "cell_type": "code",
      "metadata": {
        "id": "iFuxenSs7nPm",
        "colab_type": "code",
        "colab": {}
      },
      "source": [
        "import base64"
      ],
      "execution_count": 38,
      "outputs": []
    },
    {
      "cell_type": "code",
      "metadata": {
        "id": "EaCqHoII7pTG",
        "colab_type": "code",
        "colab": {}
      },
      "source": [
        "client_id = 'CLIENT ID'\n",
        "client_secret = 'CLIENT SECRET ID'"
      ],
      "execution_count": 39,
      "outputs": []
    },
    {
      "cell_type": "code",
      "metadata": {
        "id": "zM92nWMp7rXN",
        "colab_type": "code",
        "colab": {}
      },
      "source": [
        "#import datetime\n",
        "class SpotifyAPI(object):\n",
        "  access_token = None\n",
        "  access_token_expires = datetime.datetime.now()\n",
        "  access_token_did_expire = True\n",
        "  client_id = None\n",
        "  client_secret = None\n",
        "  token_url=\"https://accounts.spotify.com/api/token\"\n",
        "  \n",
        "\n",
        "  def __init__(self, client_id, client_secret, *args, **kwargs):\n",
        "    super().__init__(*args, **kwargs)\n",
        "    self.client_id = client_id\n",
        "    self.client_secret = client_secret\n",
        "\n",
        "  def get_client_credentials(self):\n",
        "    \"\"\"\n",
        "    Returns a base64 encoded string\n",
        "    \"\"\"\n",
        "    client_id = self.client_id\n",
        "    client_secret = self.client_secret\n",
        "    if client_id == None or client_secret == None:\n",
        "      raise Exception(\"You must set client_id and client_secret\")\n",
        "    client_creds = f\"{client_id}:{client_secret}\"\n",
        "    client_creds_b64 = base64.b64encode(client_creds.encode())\n",
        "    return client_creds_b64.decode()\n",
        "\n",
        "  def get_token_header(self):\n",
        "    client_creds_b64 = self.get_client_credentials()\n",
        "    return  {\n",
        "    \"Authorization\" : f\"Basic {client_creds_b64}\" \n",
        "    }  \n",
        "\n",
        "  def get_token_data(self):\n",
        "    return  {\n",
        "    \"grant_type\" : \"client_credentials\"\n",
        "    }  \n",
        "\n",
        "  def perform_auth(self):\n",
        "    token_url = self.token_url\n",
        "    token_data = self.get_token_data()\n",
        "    token_header = self.get_token_header()\n",
        "    r = requests.post(token_url, data=token_data, headers=token_header)\n",
        "    \n",
        "    #valid_request = r.status_code in range(200, 299):\n",
        "\n",
        "    if r.status_code not in range(200, 299):\n",
        "      raise Exception(\"Could not authenticate Client.\")\n",
        "      #return False\n",
        "    data = r.json()\n",
        "    now = datetime.datetime.now()\n",
        "    access_token = data['access_token']\n",
        "    expires_in = data['expires_in'] #seconds\n",
        "    expires = now + datetime.timedelta(seconds=expires_in)\n",
        "    self.access_token = access_token\n",
        "    self.access_token_expires = expires\n",
        "    self.access_token_did_expire = expires < now\n",
        "    return True\n",
        "\n",
        "  def get_access_token(self):\n",
        "    token = self.access_token\n",
        "    expires = self.access_token_expires\n",
        "    now = datetime.datetime.now()\n",
        "    if expires < now:\n",
        "      self.perform_auth()\n",
        "      return self.get_access_token()\n",
        "    elif token == None:\n",
        "      self.perform_auth()\n",
        "      return self.get_access_token()\n",
        "    return token\n",
        "  \n",
        "  def get_resource_header(self):\n",
        "    access_token = self.get_access_token()\n",
        "    headers = {\n",
        "        \"Authorization\" : f\"Bearer {access_token}\"\n",
        "    }\n",
        "    return headers\n",
        "  \n",
        "  def get_resource(self, lookup_id, resource_type = \"albums\", version = 'v1'):\n",
        "    endpoint = f\"https://api.spotify.com/{version}/{resource_type}/{lookup_id}\"\n",
        "    headers = self.get_resource_header()\n",
        "    r = requests.get(endpoint, headers=headers)\n",
        "    if r.status_code not in range(200,299):\n",
        "      return {}\n",
        "    return r.json()  \n",
        "  \n",
        "  def get_album(self, _id):\n",
        "    return self.get_resource(_id, resource_type = 'albums')\n",
        "\n",
        "  def get_artist(self, _id):\n",
        "    return self.get_resource(_id, resource_type = 'artists')\n",
        "\n",
        "  def search(self, query, search_type = \"artist\"):   #type\n",
        "    \n",
        "    headers = self.get_resource_header()\n",
        "    endpoint = \"https://api.spotify.com/v1/search\"\n",
        "    data = urlencode({\"q\" : query, \"type\" : search_type.lower()})\n",
        "    lookup_url = f\"{endpoint}?{data}\"\n",
        "    \n",
        "    r = requests.get(lookup_url, headers=headers)\n",
        "    if r.status_code not in range(200, 299):\n",
        "      return {} \n",
        "    return r.json()\n"
      ],
      "execution_count": 40,
      "outputs": []
    },
    {
      "cell_type": "code",
      "metadata": {
        "id": "bdkyg9gV7toM",
        "colab_type": "code",
        "colab": {}
      },
      "source": [
        "spotify = SpotifyAPI(client_id, client_secret)"
      ],
      "execution_count": 41,
      "outputs": []
    },
    {
      "cell_type": "code",
      "metadata": {
        "id": "QL8qEz_m7wW0",
        "colab_type": "code",
        "colab": {}
      },
      "source": [
        "spotify.search(\"A Lannister always pays his debts\", search_type = \"track\")"
      ],
      "execution_count": null,
      "outputs": []
    },
    {
      "cell_type": "code",
      "metadata": {
        "id": "tTrB-TWpK-kd",
        "colab_type": "code",
        "colab": {}
      },
      "source": [
        "spotify.get_artist(\"1hCkSJcXREhrodeIHQdav8\")"
      ],
      "execution_count": null,
      "outputs": []
    },
    {
      "cell_type": "code",
      "metadata": {
        "id": "Fjc_nLamMIvg",
        "colab_type": "code",
        "colab": {}
      },
      "source": [
        "spotify.get_album('41zMFsCjcGenYKVJYUXU2n')"
      ],
      "execution_count": null,
      "outputs": []
    }
  ]
}
